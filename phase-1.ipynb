{
 "cells": [
  {
   "cell_type": "markdown",
   "id": "e360d7af",
   "metadata": {},
   "source": [
    "## Numpy array and basics"
   ]
  },
  {
   "cell_type": "code",
   "execution_count": 1,
   "id": "a139dbd1",
   "metadata": {},
   "outputs": [],
   "source": [
    "import numpy as np \n"
   ]
  },
  {
   "cell_type": "markdown",
   "id": "e3ca0060",
   "metadata": {},
   "source": []
  },
  {
   "cell_type": "markdown",
   "id": "4c3f386d",
   "metadata": {},
   "source": [
    "# Creating Array from list"
   ]
  },
  {
   "cell_type": "code",
   "execution_count": 2,
   "id": "716c1b62",
   "metadata": {},
   "outputs": [
    {
     "name": "stdout",
     "output_type": "stream",
     "text": [
      "1D Array: [1 2 3 4 5]\n",
      "2D Array:\n",
      " [[1 2 3]\n",
      " [4 5 6]]\n"
     ]
    }
   ],
   "source": [
    "arr_1d = np.array([1, 2, 3, 4, 5]) # Creating a 1D NumPy array with list because array takes  a list as input\n",
    "print(\"1D Array:\", arr_1d)\n",
    "\n",
    "arr_2d = np.array([[1, 2, 3], [4, 5, 6]]) # Creating a 2D NumPy array with list of lists\n",
    "print(\"2D Array:\\n\", arr_2d)"
   ]
  },
  {
   "cell_type": "markdown",
   "id": "502179a4",
   "metadata": {},
   "source": [
    "### List vs Numpy Array"
   ]
  },
  {
   "cell_type": "code",
   "execution_count": 3,
   "metadata": {},
   "outputs": [
    {
     "name": "stdout",
     "output_type": "stream",
     "text": [
      "Python list multpilication:  [1, 2, 3, 1, 2, 3]\n",
      "NumPy array multiplication:  [2 4 6]\n",
      "Time taken for list element multiplicaation: 0.0\n",
      "Time taken for NumPy array operation: 0.0010051727294921875\n"
     ]
    }
   ],
   "source": [
    "py_list = [1,2,3]\n",
    "print(\"Python list multpilication: \" , py_list * 2) # it will do list repetition, not element-wise multiplication\n",
    "\n",
    "np_array = np.array([1,2,3])\n",
    "print(\"NumPy array multiplication: \", np_array * 2) # it will do element-wise multiplication\n",
    "\n",
    "\n",
    "import time\n",
    "\n",
    "start = time.time()\n",
    "list1 = [i*2 for i in range(1000)]\n",
    "print(\"Time taken for list element multiplicaation:\", time.time() - start)\n",
    "\n",
    "start = time.time()\n",
    "arr1 = np.arange(1000) * 2\n",
    "print(\"Time taken for NumPy array operation:\", time.time() - start)\n"
   ]
  },
  {
   "cell_type": "markdown",
   "id": "3f7a0b71",
   "metadata": {},
   "source": [
    "### Creating Array From Scratch"
   ]
  },
  {
   "cell_type": "code",
   "execution_count": 13,
   "metadata": {},
   "outputs": [
    {
     "name": "stdout",
     "output_type": "stream",
     "text": [
      "zeros array:\n",
      " [[0. 0. 0. 0.]\n",
      " [0. 0. 0. 0.]\n",
      " [0. 0. 0. 0.]]\n",
      "Ones array: \n",
      " [[1. 1. 1. 1.]\n",
      " [1. 1. 1. 1.]\n",
      " [1. 1. 1. 1.]]\n",
      "full array with 5: \n",
      "[[5 5]\n",
      " [5 5]]\n",
      "Random array: \n",
      "[[0.07430818 0.91154987]\n",
      " [0.22410519 0.11253134]]\n",
      "sequence array: \n",
      "[0 2 4 6 8]\n"
     ]
    }
   ],
   "source": [
    "zeros = np.zeros((3,4)) # 3 rows and 4 columns\n",
    "print(f\"zeros array:\\n {zeros}\")\n",
    "\n",
    "ones = np.ones((3,4)) # 3 rows and 4 columns\n",
    "print(f\"Ones array: \\n {ones}\")\n",
    "\n",
    "full = np.full((2,2) , 5)\n",
    "print(f\"full array with 5: \\n{full}\")\n",
    "\n",
    "random = np.random.random((2,2)) # 2 rows and 2 columns\n",
    "print(f\"Random array: \\n{random}\")\n",
    "\n",
    "sequence = np.arange(0, 10 , 2) # start from 0 end at 10 with step 2\n",
    "print(f\"sequence array: \\n{sequence}\")"
   ]
  },
  {
   "cell_type": "markdown",
   "id": "0a24171e",
   "metadata": {},
   "source": []
  },
  {
   "cell_type": "markdown",
   "id": "46f7c6c6",
   "metadata": {},
   "source": [
    "### Vector, Matrix and Tensor"
   ]
  },
  {
   "cell_type": "code",
   "execution_count": null,
   "metadata": {},
   "outputs": [
    {
     "name": "stdout",
     "output_type": "stream",
     "text": [
      "Vector: [1 2 3]\n",
      "Matrix:\n",
      "[[1 2 3]\n",
      " [4 5 6]]\n",
      "Tensor:\n",
      "[[[1 2]\n",
      "  [3 4]]\n",
      "\n",
      " [[5 6]\n",
      "  [7 8]]]\n"
     ]
    }
   ],
   "source": [
    "vector = np.array([1, 2, 3])\n",
    "print(f\"Vector: {vector}\")\n",
    "\n",
    "matrix = np.array([[1, 2, 3], [4, 5, 6]])\n",
    "print(f\"Matrix:\\n{matrix}\")\n",
    "\n",
    "tensor = np.array([[[1,2] , [3,4]] , \n",
    "                   [[5,6] , [7,8]]]) \n",
    "print(f\"Tensor:\\n{tensor}\")"
   ]
  },
  {
   "cell_type": "markdown",
   "id": "d3179aab",
   "metadata": {},
   "source": [
    "### Array Propertities"
   ]
  },
  {
   "cell_type": "code",
   "execution_count": 22,
   "metadata": {},
   "outputs": [
    {
     "name": "stdout",
     "output_type": "stream",
     "text": [
      "Array shape: (5,)\n",
      "dimensions: 1\n",
      "size: 5\n",
      "data type: int64\n",
      "\n",
      "\n",
      "Array shape: (2, 3)\n",
      "dimensions: 2\n",
      "size: 6\n",
      "data type: int32\n"
     ]
    }
   ],
   "source": [
    "arr = np.array([1, 2, 3, 4, 5], dtype=np.int64)  # Specifying data type as int64\n",
    "print(f\"Array shape: {arr.shape}\")  # Output: (5,)\n",
    "print(f\"dimensions: {arr.ndim}\")  # Output: 1\n",
    "print(f\"size: {arr.size}\")  # Output: 5\n",
    "print(f\"data type: {arr.dtype}\")  # Output: int64 (or int32 depending on the system)\n",
    "\n",
    "print(\"\\n\")\n",
    "arr = np.array([[1, 2, 3], [4, 5, 6]])\n",
    "print(f\"Array shape: {arr.shape}\")  # Output: (2, 3)    \n",
    "print(f\"dimensions: {arr.ndim}\")  # Output: 2\n",
    "print(f\"size: {arr.size}\")  # Output: 6\n",
    "print(f\"data type: {arr.dtype}\")  # Output: int64 (or int32 depending on the system)\n"
   ]
  },
  {
   "cell_type": "markdown",
   "id": "96b7f4bf",
   "metadata": {},
   "source": [
    "### Array Reshaping"
   ]
  },
  {
   "cell_type": "code",
   "execution_count": null,
   "metadata": {},
   "outputs": [
    {
     "name": "stdout",
     "output_type": "stream",
     "text": [
      "Original array: [ 0  1  2  3  4  5  6  7  8  9 10 11]\n",
      "Reshaped array:\n",
      "[[ 0  1  2  3]\n",
      " [ 4  5  6  7]\n",
      " [ 8  9 10 11]]\n",
      "Flattened array: [ 0  1  2  3  4  5  6  7  8  9 10 11]\n",
      "Ravelled array: [ 0  1  2  3  4  5  6  7  8  9 10 11]\n",
      "Modified flattened array: [ 0  1  2  3  4  5  6  7  8  9 10 11]\n"
     ]
    }
   ],
   "source": [
    "arr = np.arange(12)\n",
    "print(f\"Original array: {arr}\")\n",
    "\n",
    "reshaped = arr.reshape(3, 4)  # Reshape to 3 rows and 4 columns\n",
    "print(f\"Reshaped array:\\n{reshaped}\")\n",
    "\n",
    "flattened = reshaped.flatten()  # Flatten the array back to 1D\n",
    "print(f\"Flattened array: {flattened}\")\n",
    "\n",
    "ravel = reshaped.ravel()  # Ravel the array (similar to flatten but returns a view if possible)\n",
    "print(f\"Ravelled array: {ravel}\")\n"
   ]
  },
  {
   "cell_type": "markdown",
   "id": "558c39d2",
   "metadata": {},
   "source": [
    "### Transpose"
   ]
  },
  {
   "cell_type": "code",
   "execution_count": null,
   "id": "9eb763f1",
   "metadata": {},
   "outputs": [
    {
     "name": "stdout",
     "output_type": "stream",
     "text": [
      "[[1 2 3]\n",
      " [4 5 6]\n",
      " [7 8 9]]\n",
      "[[1 4 7]\n",
      " [2 5 8]\n",
      " [3 6 9]]\n"
     ]
    }
   ],
   "source": [
    "arr = np.array([\n",
    "    [1, 2, 3],\n",
    "    [4, 5, 6],\n",
    "    [7, 8, 9]\n",
    "])\n",
    "\n",
    "transposed = arr.T # Transpose the array or use np.transpose(arr)\n",
    "print(transposed)"
   ]
  },
  {
   "cell_type": "markdown",
   "metadata": {},
   "source": []
  },
  {
   "cell_type": "code",
   "execution_count": null,
   "metadata": {},
   "outputs": [],
   "source": []
  },
  {
   "cell_type": "code",
   "execution_count": null,
   "metadata": {},
   "outputs": [],
   "source": []
  },
  {
   "cell_type": "code",
   "execution_count": null,
   "metadata": {},
   "outputs": [],
   "source": []
  },
  {
   "cell_type": "code",
   "execution_count": null,
   "metadata": {},
   "outputs": [],
   "source": []
  },
  {
   "cell_type": "code",
   "execution_count": null,
   "metadata": {},
   "outputs": [],
   "source": []
  },
  {
   "cell_type": "code",
   "execution_count": null,
   "metadata": {},
   "outputs": [],
   "source": []
  },
  {
   "cell_type": "code",
   "execution_count": null,
   "metadata": {},
   "outputs": [],
   "source": []
  },
  {
   "cell_type": "code",
   "execution_count": null,
   "metadata": {},
   "outputs": [],
   "source": []
  },
  {
   "cell_type": "code",
   "execution_count": null,
   "metadata": {},
   "outputs": [],
   "source": []
  },
  {
   "cell_type": "code",
   "execution_count": null,
   "metadata": {},
   "outputs": [],
   "source": []
  },
  {
   "cell_type": "markdown",
   "metadata": {},
   "source": []
  },
  {
   "cell_type": "markdown",
   "metadata": {},
   "source": []
  },
  {
   "cell_type": "markdown",
   "metadata": {},
   "source": []
  },
  {
   "cell_type": "markdown",
   "metadata": {},
   "source": []
  },
  {
   "cell_type": "markdown",
   "metadata": {},
   "source": []
  },
  {
   "cell_type": "markdown",
   "metadata": {},
   "source": []
  },
  {
   "cell_type": "markdown",
   "metadata": {},
   "source": []
  },
  {
   "cell_type": "markdown",
   "metadata": {},
   "source": []
  },
  {
   "cell_type": "markdown",
   "metadata": {},
   "source": []
  },
  {
   "cell_type": "markdown",
   "metadata": {},
   "source": []
  },
  {
   "cell_type": "code",
   "execution_count": null,
   "metadata": {},
   "outputs": [],
   "source": []
  },
  {
   "cell_type": "code",
   "execution_count": null,
   "metadata": {},
   "outputs": [],
   "source": []
  },
  {
   "cell_type": "code",
   "execution_count": null,
   "metadata": {},
   "outputs": [],
   "source": []
  },
  {
   "cell_type": "code",
   "execution_count": null,
   "metadata": {},
   "outputs": [],
   "source": []
  },
  {
   "cell_type": "code",
   "execution_count": null,
   "metadata": {},
   "outputs": [],
   "source": []
  },
  {
   "cell_type": "markdown",
   "metadata": {},
   "source": []
  },
  {
   "cell_type": "markdown",
   "metadata": {},
   "source": []
  },
  {
   "cell_type": "markdown",
   "metadata": {},
   "source": []
  },
  {
   "cell_type": "code",
   "execution_count": null,
   "metadata": {},
   "outputs": [],
   "source": []
  },
  {
   "cell_type": "markdown",
   "metadata": {},
   "source": []
  },
  {
   "cell_type": "code",
   "execution_count": null,
   "metadata": {},
   "outputs": [],
   "source": []
  },
  {
   "cell_type": "code",
   "execution_count": null,
   "metadata": {},
   "outputs": [],
   "source": []
  },
  {
   "cell_type": "code",
   "execution_count": null,
   "metadata": {},
   "outputs": [],
   "source": []
  },
  {
   "cell_type": "code",
   "execution_count": null,
   "metadata": {},
   "outputs": [],
   "source": []
  },
  {
   "cell_type": "code",
   "execution_count": null,
   "metadata": {},
   "outputs": [],
   "source": []
  },
  {
   "cell_type": "code",
   "execution_count": null,
   "metadata": {},
   "outputs": [],
   "source": []
  },
  {
   "cell_type": "code",
   "execution_count": null,
   "metadata": {},
   "outputs": [],
   "source": []
  },
  {
   "cell_type": "markdown",
   "metadata": {},
   "source": []
  },
  {
   "cell_type": "code",
   "execution_count": null,
   "metadata": {},
   "outputs": [],
   "source": []
  },
  {
   "cell_type": "markdown",
   "metadata": {},
   "source": []
  },
  {
   "cell_type": "markdown",
   "metadata": {},
   "source": []
  },
  {
   "cell_type": "code",
   "execution_count": null,
   "metadata": {},
   "outputs": [],
   "source": []
  },
  {
   "cell_type": "code",
   "execution_count": null,
   "metadata": {},
   "outputs": [],
   "source": []
  },
  {
   "cell_type": "code",
   "execution_count": null,
   "metadata": {},
   "outputs": [],
   "source": []
  },
  {
   "cell_type": "code",
   "execution_count": null,
   "metadata": {},
   "outputs": [],
   "source": []
  },
  {
   "cell_type": "code",
   "execution_count": null,
   "metadata": {},
   "outputs": [],
   "source": []
  },
  {
   "cell_type": "code",
   "execution_count": null,
   "metadata": {},
   "outputs": [],
   "source": []
  },
  {
   "cell_type": "code",
   "execution_count": null,
   "metadata": {},
   "outputs": [],
   "source": []
  },
  {
   "cell_type": "code",
   "execution_count": null,
   "metadata": {},
   "outputs": [],
   "source": []
  },
  {
   "cell_type": "code",
   "execution_count": null,
   "metadata": {},
   "outputs": [],
   "source": []
  },
  {
   "cell_type": "code",
   "execution_count": null,
   "metadata": {},
   "outputs": [],
   "source": []
  },
  {
   "cell_type": "code",
   "execution_count": null,
   "metadata": {},
   "outputs": [],
   "source": []
  },
  {
   "cell_type": "markdown",
   "metadata": {},
   "source": []
  },
  {
   "cell_type": "markdown",
   "id": "30178710",
   "metadata": {},
   "source": [
    "### List vs Numpy Array"
   ]
  },
  {
   "cell_type": "markdown",
   "metadata": {},
   "source": []
  },
  {
   "cell_type": "markdown",
   "metadata": {},
   "source": []
  },
  {
   "cell_type": "markdown",
   "metadata": {},
   "source": []
  }
 ],
 "metadata": {
  "kernelspec": {
   "display_name": "venv",
   "language": "python",
   "name": "python3"
  },
  "language_info": {
   "codemirror_mode": {
    "name": "ipython",
    "version": 3
   },
   "file_extension": ".py",
   "mimetype": "text/x-python",
   "name": "python",
   "nbconvert_exporter": "python",
   "pygments_lexer": "ipython3",
   "version": "3.7.0"
  }
 },
 "nbformat": 4,
 "nbformat_minor": 5
}
