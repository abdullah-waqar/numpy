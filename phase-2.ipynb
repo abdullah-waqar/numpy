{
 "cells": [
  {
   "cell_type": "markdown",
   "id": "dc7c7a19",
   "metadata": {},
   "source": [
    "## Numpy Array Operations"
   ]
  },
  {
   "cell_type": "code",
   "execution_count": 1,
   "id": "0b6ed902",
   "metadata": {},
   "outputs": [],
   "source": [
    "import numpy as np"
   ]
  },
  {
   "cell_type": "markdown",
   "id": "9d18ef9b",
   "metadata": {},
   "source": [
    "### Indexing and slicing"
   ]
  },
  {
   "cell_type": "code",
   "execution_count": 26,
   "id": "e5263688",
   "metadata": {},
   "outputs": [
    {
     "name": "stdout",
     "output_type": "stream",
     "text": [
      "Basic Slicing: \n",
      "[3 4 5]\n",
      "Basic Slicing with step: \n",
      "[3 5 7]\n",
      "At row 1 and column 2 => element is: 7\n",
      "Entire row: [5 6 7 8]\n",
      "Entire column: [ 3  7 11]\n"
     ]
    }
   ],
   "source": [
    "# Basic Slicing in NumPy with 1D array\n",
    "arr = np.array([1, 2, 3, 4, 5 , 6 ,7 , 8 , 9 , 10])\n",
    "print(f\"Basic Slicing: \\n{arr[2:5]}\") # start from 2 and end at 5 (exclusive)\n",
    "print(f\"Basic Slicing with step: \\n{arr[2:8:2]}\") # start from 2, end at 8 (exclusive) with step of 2\n",
    "\n",
    "\n",
    "# Basic Slicing in NumPy with 2D array\n",
    "arr2d = np.array([\n",
    "    [1, 2, 3, 4], \n",
    "    [5, 6, 7, 8], \n",
    "    [9, 10, 11, 12]\n",
    "])\n",
    "\n",
    "print(f\"At row 1 and column 2 => element is: {arr2d[1][2]}\")\n",
    "print(f\"Entire row: {arr2d[1]}\") # prints entire row 1\n",
    "print(f\"Entire column: {arr2d[:, 2]}\") # prints entire column 2\n",
    "\n",
    "\n",
    "\n"
   ]
  },
  {
   "cell_type": "markdown",
   "id": "4dc9aabc",
   "metadata": {},
   "source": [
    "### Sorting"
   ]
  },
  {
   "cell_type": "code",
   "execution_count": 36,
   "id": "940425d4",
   "metadata": {},
   "outputs": [
    {
     "name": "stdout",
     "output_type": "stream",
     "text": [
      "Original array: [4 5 2 9 0 2 1]\n",
      "Sorted array: [0 1 2 2 4 5 9]\n",
      "Original 2D array:\n",
      "[[7 2 9]\n",
      " [4 5 6]\n",
      " [3 8 1]]\n",
      "Sorted 2D array along first axis:\n",
      "[[3 2 1]\n",
      " [4 5 6]\n",
      " [7 8 9]]\n",
      "Sorted 2D array along second axis:\n",
      "[[2 7 9]\n",
      " [4 5 6]\n",
      " [1 3 8]]\n"
     ]
    }
   ],
   "source": [
    "arr = np.array([4,5,2,9,0,2,1])\n",
    "\n",
    "sorted = np.sort(arr)\n",
    "print(f\"Original array: {arr}\")\n",
    "print(f\"Sorted array: {sorted}\")\n",
    "\n",
    "#sorted 2d array\n",
    "arr2d = np.array([\n",
    "    [7, 2, 9],\n",
    "    [4, 5, 6],\n",
    "    [3, 8, 1]\n",
    "])\n",
    "\n",
    "print(f\"Original 2D array:\\n{arr2d}\")\n",
    "\n",
    "sorted = np.sort(arr2d , axis=0) # sort along the first axis (columns)\n",
    "print(f\"Sorted 2D array along first axis:\\n{sorted}\")\n",
    "\n",
    "sorted = np.sort(arr2d , axis=1) # sort along the second axis (rows)\n",
    "print(f\"Sorted 2D array along second axis:\\n{sorted}\")"
   ]
  },
  {
   "cell_type": "markdown",
   "id": "1f15848f",
   "metadata": {},
   "source": [
    "## Filtering"
   ]
  },
  {
   "cell_type": "code",
   "execution_count": 38,
   "id": "fbdfcb2f",
   "metadata": {},
   "outputs": [
    {
     "name": "stdout",
     "output_type": "stream",
     "text": [
      "Even numbers: [ 2  4  6  8 10]\n",
      "Odd numbers: [1 3 5 7 9]\n"
     ]
    }
   ],
   "source": [
    "numbers = np.array([1, 2, 3, 4, 5,6, 7, 8, 9, 10])\n",
    "even_numbers = numbers[numbers % 2 == 0]\n",
    "print(f\"Even numbers: {even_numbers}\")\n",
    "\n",
    "odd_numbers = numbers[numbers % 2 != 0]\n",
    "print(f\"Odd numbers: {odd_numbers}\")"
   ]
  },
  {
   "cell_type": "markdown",
   "id": "f4f2a767",
   "metadata": {},
   "source": [
    "## Filter with Mask"
   ]
  },
  {
   "cell_type": "code",
   "execution_count": 40,
   "id": "9e837a71",
   "metadata": {},
   "outputs": [
    {
     "name": "stdout",
     "output_type": "stream",
     "text": [
      "Original array: [ 1  2  3  4  5  6  7  8  9 10]\n",
      "Mask (numbers > 5): [ 6  7  8  9 10]\n"
     ]
    }
   ],
   "source": [
    "numbers = np.array([1, 2, 3, 4, 5 , 6 ,7 , 8 , 9 , 10])\n",
    "mask = numbers > 5\n",
    "\n",
    "print(f\"Original array: {numbers}\")\n",
    "print(f\"Mask (numbers > 5): {numbers[mask]}\")\n"
   ]
  },
  {
   "cell_type": "markdown",
   "id": "0564408a",
   "metadata": {},
   "source": [
    "## Fancy Indexing vs np.where()"
   ]
  },
  {
   "cell_type": "code",
   "execution_count": null,
   "id": "c11e8a27",
   "metadata": {},
   "outputs": [
    {
     "name": "stdout",
     "output_type": "stream",
     "text": [
      "Numbers: [1 3 6]\n",
      "Indices where numbers > 5: [ 6  7  8  9 10]\n",
      "Condition array (numbers > 5 ? numbers * 2 : numbers): [ 3  6  9 12 15 36 42 48 54 60]\n"
     ]
    }
   ],
   "source": [
    "numbers = np.array([1, 2, 3, 4, 5, 6, 7, 8, 9, 10])\n",
    "\n",
    "indices = [0 , 2, 5]\n",
    "\n",
    "print(f\"Numbers: {numbers[indices]}\")\n",
    "\n",
    "where_result = np.where(numbers > 5)\n",
    "print(f\"Indices where numbers > 5: {numbers[where_result]}\")\n",
    "\n",
    "                          #Condition   value if true   value if false\n",
    "condition_array = np.where(numbers > 5 , numbers * 6 , numbers )\n",
    "print(f\"Condition array (numbers > 5 ? numbers * 2 : numbers): {condition_array}\")"
   ]
  },
  {
   "cell_type": "markdown",
   "id": "3319714c",
   "metadata": {},
   "source": [
    "## Adding and removing data"
   ]
  },
  {
   "cell_type": "code",
   "execution_count": null,
   "id": "c539022a",
   "metadata": {},
   "outputs": [
    {
     "name": "stdout",
     "output_type": "stream",
     "text": [
      "3\n"
     ]
    }
   ],
   "source": [
    "arr1 = np.array([1,2,3])\n",
    "arr2 = np.array([4,5,6])\n"
   ]
  },
  {
   "cell_type": "code",
   "execution_count": null,
   "id": "7cc9222f",
   "metadata": {},
   "outputs": [],
   "source": []
  },
  {
   "cell_type": "code",
   "execution_count": null,
   "id": "6e286ad3",
   "metadata": {},
   "outputs": [],
   "source": []
  }
 ],
 "metadata": {
  "kernelspec": {
   "display_name": "venv",
   "language": "python",
   "name": "python3"
  },
  "language_info": {
   "codemirror_mode": {
    "name": "ipython",
    "version": 3
   },
   "file_extension": ".py",
   "mimetype": "text/x-python",
   "name": "python",
   "nbconvert_exporter": "python",
   "pygments_lexer": "ipython3",
   "version": "3.7.0"
  }
 },
 "nbformat": 4,
 "nbformat_minor": 5
}
